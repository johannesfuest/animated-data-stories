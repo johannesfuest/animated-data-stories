{
 "cells": [
  {
   "cell_type": "code",
   "execution_count": 7,
   "metadata": {},
   "outputs": [],
   "source": [
    "import pandas as pd\n",
    "import numpy as np\n",
    "from matplotlib import pyplot as plt"
   ]
  },
  {
   "cell_type": "code",
   "execution_count": 8,
   "metadata": {},
   "outputs": [],
   "source": [
    "yesterday = '2019-02-28'"
   ]
  },
  {
   "cell_type": "markdown",
   "metadata": {},
   "source": [
    "We first load the csv files and join sales and stores to create one large table that will allow us to aggregate city data further down the line:"
   ]
  },
  {
   "cell_type": "code",
   "execution_count": 9,
   "metadata": {},
   "outputs": [],
   "source": [
    "# Load from csv\n",
    "df_sales = pd.read_csv('../dataset/sales.csv',\n",
    "                       delimiter=',', \n",
    "                       dtype={\"product_id\":\"category\", \n",
    "                              \"store_id\":\"category\",\n",
    "                              \"promo_type_1\":\"category\",\n",
    "                              \"promo_bin_1\":\"category\",\n",
    "                              \"promo_type_2\":\"category\",\n",
    "                              \"promo_bin_2\":\"category\",\n",
    "                              \"promo_discount_2\":\"category\",\n",
    "                              \"promo_discount_type_2\":\"category\"},\n",
    "                       parse_dates=[\"date\"])\n",
    "df_stores = pd.read_csv('../dataset/store_cities.csv', \n",
    "                        delimiter=',', \n",
    "                        dtype={'store_id':'category',\n",
    "                               'storetype_id':'category',\n",
    "                               'city_id':'category'})\n",
    "df_sales = df_sales.join(df_stores.set_index('store_id'), on='store_id')"
   ]
  },
  {
   "cell_type": "markdown",
   "metadata": {},
   "source": [
    "We remove unwanted NAN values (these are created by stores obviously not containing data prior to their opening)."
   ]
  },
  {
   "cell_type": "code",
   "execution_count": 10,
   "metadata": {},
   "outputs": [
    {
     "name": "stderr",
     "output_type": "stream",
     "text": [
      "/opt/anaconda3/lib/python3.7/site-packages/ipykernel_launcher.py:2: SettingWithCopyWarning: \n",
      "A value is trying to be set on a copy of a slice from a DataFrame.\n",
      "Try using .loc[row_indexer,col_indexer] = value instead\n",
      "\n",
      "See the caveats in the documentation: https://pandas.pydata.org/pandas-docs/stable/user_guide/indexing.html#returning-a-view-versus-a-copy\n",
      "  \n"
     ]
    }
   ],
   "source": [
    "df_sales_clean = df_sales[['date','revenue','city_id']]\n",
    "df_sales_clean['revenue'] = df_sales_clean['revenue'].fillna(0)"
   ]
  },
  {
   "cell_type": "markdown",
   "metadata": {},
   "source": [
    "We then group the data by city id and date, giving us daily revenue by city:"
   ]
  },
  {
   "cell_type": "code",
   "execution_count": 11,
   "metadata": {},
   "outputs": [],
   "source": [
    "#daily_revenue_by_city = df_sales_clean.groupby(['city_id','hierarchy1_id','date'])['revenue'].agg('sum').reset_index()\n",
    "daily_revenue_by_city = df_sales_clean.groupby(['city_id','date'])['revenue'].agg('sum')\n",
    "daily_revenue_by_city  = daily_revenue_by_city.dropna()\n"
   ]
  },
  {
   "cell_type": "markdown",
   "metadata": {},
   "source": [
    "We further aggregate the data to get monthly revenue data per city:"
   ]
  },
  {
   "cell_type": "code",
   "execution_count": 12,
   "metadata": {},
   "outputs": [],
   "source": [
    "monthly_rev_by_city = daily_revenue_by_city.groupby([pd.Grouper(level='city_id'), \n",
    "                                                           pd.Grouper(freq='1M', level='date')]).sum()\n",
    "monthly_rev_by_city = monthly_rev_by_city.reset_index()\n",
    "monthly_rev_by_city = monthly_rev_by_city.dropna()"
   ]
  },
  {
   "cell_type": "markdown",
   "metadata": {},
   "source": [
    "We can now compare the revenue of the last month with the month half a year ago"
   ]
  },
  {
   "cell_type": "code",
   "execution_count": 13,
   "metadata": {},
   "outputs": [],
   "source": [
    "get_growth = monthly_rev_by_city\n",
    "get_growth['revenue_past_halb_year'] = get_growth['revenue'].shift(6)\n",
    "get_growth['half_year_increase'] = ((get_growth['revenue'] / get_growth['revenue_past_halb_year']) - 1) * 100\n",
    "get_growth = get_growth.loc[get_growth.date == pd.to_datetime(yesterday, format='%Y-%m-%d')]\n",
    "get_growth = get_growth.loc[get_growth.half_year_increase > 100]\n",
    "growth_cities = get_growth['city_id'].tolist()\n",
    "growth_values = get_growth['half_year_increase'].tolist()"
   ]
  },
  {
   "cell_type": "markdown",
   "metadata": {},
   "source": [
    "The identified groth cities are now stored with the respectiv graph data and texts"
   ]
  },
  {
   "cell_type": "code",
   "execution_count": 14,
   "metadata": {},
   "outputs": [
    {
     "name": "stderr",
     "output_type": "stream",
     "text": [
      "/opt/anaconda3/lib/python3.7/site-packages/ipykernel_launcher.py:6: SettingWithCopyWarning: \n",
      "A value is trying to be set on a copy of a slice from a DataFrame.\n",
      "Try using .loc[row_indexer,col_indexer] = value instead\n",
      "\n",
      "See the caveats in the documentation: https://pandas.pydata.org/pandas-docs/stable/user_guide/indexing.html#returning-a-view-versus-a-copy\n",
      "  \n"
     ]
    }
   ],
   "source": [
    "res = {}\n",
    "for i in range(len(growth_cities)):\n",
    "    res[growth_cities[i]] = {}\n",
    "    temp = monthly_rev_by_city\n",
    "    temp = temp.loc[temp.city_id == growth_cities[i]]\n",
    "    temp['date'] = pd.to_datetime(temp['date'], format='%Y-%m-%d')\n",
    "    temp = temp[['date', 'revenue']]\n",
    "    temp = temp.loc[temp.date <= pd.to_datetime(yesterday, format='%Y-%m-%d')]\n",
    "    res[growth_cities[i]][\"data\"] = temp.to_numpy()\n",
    "    res[growth_cities[i]][\"text1\"] = f\"City {growth_cities[i]} increases the monthly revenue by {int(growth_values[i])} in the last 6 months\"\n",
    "    res[growth_cities[i]][\"text2\"] = f\"Maybe expand further in this city\"\n",
    "    res[growth_cities[i]][\"y_label\"] = \"Monthly Revenue\"\n",
    "    res[growth_cities[i]][\"chart_type\"] = 1"
   ]
  },
  {
   "cell_type": "markdown",
   "metadata": {},
   "source": [
    "Lets check the graph for one city"
   ]
  },
  {
   "cell_type": "code",
   "execution_count": 15,
   "metadata": {},
   "outputs": [],
   "source": [
    "city = \"C021\""
   ]
  },
  {
   "cell_type": "code",
   "execution_count": 16,
   "metadata": {},
   "outputs": [
    {
     "name": "stderr",
     "output_type": "stream",
     "text": [
      "/opt/anaconda3/lib/python3.7/site-packages/ipykernel_launcher.py:3: SettingWithCopyWarning: \n",
      "A value is trying to be set on a copy of a slice from a DataFrame.\n",
      "Try using .loc[row_indexer,col_indexer] = value instead\n",
      "\n",
      "See the caveats in the documentation: https://pandas.pydata.org/pandas-docs/stable/user_guide/indexing.html#returning-a-view-versus-a-copy\n",
      "  This is separate from the ipykernel package so we can avoid doing imports until\n"
     ]
    }
   ],
   "source": [
    "temp = monthly_rev_by_city\n",
    "temp = temp.loc[temp.city_id == city]\n",
    "temp['date'] = pd.to_datetime(temp['date'], format='%Y-%m-%d')\n",
    "temp = temp[['date', 'revenue']]\n",
    "temp = temp.loc[temp.date <= pd.to_datetime(yesterday, format='%Y-%m-%d')]"
   ]
  },
  {
   "cell_type": "code",
   "execution_count": 18,
   "metadata": {},
   "outputs": [
    {
     "data": {
      "image/png": "[encoded data removed]",
      "text/plain": [
       "<Figure size 432x288 with 1 Axes>"
      ]
     },
     "metadata": {
      "needs_background": "light"
     },
     "output_type": "display_data"
    }
   ],
   "source": [
    "temp.plot(x='date')\n",
    "plt.show()"
   ]
  },
  {
   "cell_type": "code",
   "execution_count": null,
   "metadata": {},
   "outputs": [],
   "source": []
  }
 ],
 "metadata": {
  "kernelspec": {
   "display_name": "Python 3",
   "language": "python",
   "name": "python3"
  },
  "language_info": {
   "codemirror_mode": {
    "name": "ipython",
    "version": 3
   },
   "file_extension": ".py",
   "mimetype": "text/x-python",
   "name": "python",
   "nbconvert_exporter": "python",
   "pygments_lexer": "ipython3",
   "version": "3.7.6"
  }
 },
 "nbformat": 4,
 "nbformat_minor": 4
}
