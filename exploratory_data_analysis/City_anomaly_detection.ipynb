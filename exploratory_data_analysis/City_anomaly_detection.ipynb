{
 "cells": [
  {
   "cell_type": "code",
   "execution_count": 1,
   "metadata": {},
   "outputs": [],
   "source": [
    "import pandas as pd\n",
    "import numpy as np\n",
    "from matplotlib import pyplot as plt"
   ]
  },
  {
   "cell_type": "code",
   "execution_count": 2,
   "metadata": {},
   "outputs": [],
   "source": [
    "yesterday = '2018-12-31'"
   ]
  },
  {
   "cell_type": "markdown",
   "metadata": {},
   "source": [
    "We first load the csv files and join sales and stores to create one large table that will allow us to aggregate city data further down the line:"
   ]
  },
  {
   "cell_type": "code",
   "execution_count": 3,
   "metadata": {},
   "outputs": [],
   "source": [
    "# Load from csv\n",
    "df_sales = pd.read_csv('../dataset/sales.csv',\n",
    "                       delimiter=',', \n",
    "                       dtype={\"product_id\":\"category\", \n",
    "                              \"store_id\":\"category\",\n",
    "                              \"promo_type_1\":\"category\",\n",
    "                              \"promo_bin_1\":\"category\",\n",
    "                              \"promo_type_2\":\"category\",\n",
    "                              \"promo_bin_2\":\"category\",\n",
    "                              \"promo_discount_2\":\"category\",\n",
    "                              \"promo_discount_type_2\":\"category\"},\n",
    "                       parse_dates=[\"date\"])\n",
    "df_stores = pd.read_csv('../dataset/store_cities.csv', \n",
    "                        delimiter=',', \n",
    "                        dtype={'store_id':'category',\n",
    "                               'storetype_id':'category',\n",
    "                               'city_id':'category'})\n",
    "df_sales = df_sales.join(df_stores.set_index('store_id'), on='store_id')"
   ]
  },
  {
   "cell_type": "markdown",
   "metadata": {},
   "source": [
    "We remove unwanted NAN values (these are created by stores obviously not containing data prior to their opening)."
   ]
  },
  {
   "cell_type": "code",
   "execution_count": 4,
   "metadata": {},
   "outputs": [
    {
     "name": "stderr",
     "output_type": "stream",
     "text": [
      "/opt/anaconda3/lib/python3.7/site-packages/ipykernel_launcher.py:2: SettingWithCopyWarning: \n",
      "A value is trying to be set on a copy of a slice from a DataFrame.\n",
      "Try using .loc[row_indexer,col_indexer] = value instead\n",
      "\n",
      "See the caveats in the documentation: https://pandas.pydata.org/pandas-docs/stable/user_guide/indexing.html#returning-a-view-versus-a-copy\n",
      "  \n"
     ]
    }
   ],
   "source": [
    "df_sales_clean = df_sales[['date','revenue','city_id']]\n",
    "df_sales_clean['revenue'] = df_sales_clean['revenue'].fillna(0)"
   ]
  },
  {
   "cell_type": "markdown",
   "metadata": {},
   "source": [
    "We then group the data by city id and date, giving us daily revenue by city:"
   ]
  },
  {
   "cell_type": "code",
   "execution_count": 5,
   "metadata": {},
   "outputs": [],
   "source": [
    "#daily_revenue_by_city = df_sales_clean.groupby(['city_id','hierarchy1_id','date'])['revenue'].agg('sum').reset_index()\n",
    "daily_revenue_by_city = df_sales_clean.groupby(['city_id','date'])['revenue'].agg('sum')\n",
    "daily_revenue_by_city  = daily_revenue_by_city.dropna()\n"
   ]
  },
  {
   "cell_type": "markdown",
   "metadata": {},
   "source": [
    "We further aggregate the data to get monthly revenue data per city:"
   ]
  },
  {
   "cell_type": "code",
   "execution_count": 6,
   "metadata": {},
   "outputs": [],
   "source": [
    "monthly_rev_by_city = daily_revenue_by_city.groupby([pd.Grouper(level='city_id'), \n",
    "                                                           pd.Grouper(freq='1M', level='date')]).sum()\n",
    "monthly_rev_by_city = monthly_rev_by_city.reset_index()\n",
    "monthly_rev_by_city = monthly_rev_by_city.dropna()"
   ]
  },
  {
   "cell_type": "markdown",
   "metadata": {},
   "source": [
    "We can now compare the revenue of the last month with the month half a year ago"
   ]
  },
  {
   "cell_type": "code",
   "execution_count": 14,
   "metadata": {},
   "outputs": [],
   "source": [
    "yesterday = '2018-12-31'"
   ]
  },
  {
   "cell_type": "code",
   "execution_count": 15,
   "metadata": {},
   "outputs": [],
   "source": [
    "get_growth = monthly_rev_by_city\n",
    "get_growth['revenue_past_halb_year'] = get_growth['revenue'].shift(6)\n",
    "get_growth['half_year_increase'] = ((get_growth['revenue'] / get_growth['revenue_past_halb_year']) - 1) * 100\n",
    "get_growth = get_growth.loc[get_growth.date == pd.to_datetime(yesterday, format='%Y-%m-%d')]\n",
    "get_growth = get_growth.loc[get_growth.half_year_increase > 100]\n",
    "growth_cities = get_growth['city_id'].tolist()\n",
    "growth_values = get_growth['half_year_increase'].tolist()"
   ]
  },
  {
   "cell_type": "markdown",
   "metadata": {},
   "source": [
    "The identified groth cities are now stored with the respectiv graph data and texts"
   ]
  },
  {
   "cell_type": "code",
   "execution_count": 33,
   "metadata": {},
   "outputs": [
    {
     "name": "stderr",
     "output_type": "stream",
     "text": [
      "/opt/anaconda3/lib/python3.7/site-packages/ipykernel_launcher.py:6: SettingWithCopyWarning: \n",
      "A value is trying to be set on a copy of a slice from a DataFrame.\n",
      "Try using .loc[row_indexer,col_indexer] = value instead\n",
      "\n",
      "See the caveats in the documentation: https://pandas.pydata.org/pandas-docs/stable/user_guide/indexing.html#returning-a-view-versus-a-copy\n",
      "  \n"
     ]
    }
   ],
   "source": [
    "res = {}\n",
    "for i in range(len(growth_cities)):\n",
    "    res[growth_cities[i]] = {}\n",
    "    temp = monthly_rev_by_city\n",
    "    temp = temp.loc[temp.city_id == growth_cities[i]]\n",
    "    temp['date'] = pd.to_datetime(temp['date'], format='%Y-%m')\n",
    "    temp = temp[['date', 'revenue']]\n",
    "    temp = temp.loc[temp.date <= pd.to_datetime(yesterday, format='%Y-%m-%d')]\n",
    "    temp['date'] = temp['date'].dt.strftime('%Y-%m')\n",
    "    res[growth_cities[i]][\"data\"] = temp.to_numpy()\n",
    "    res[growth_cities[i]][\"text1\"] = f\"City {growth_cities[i]} increases the monthly revenue by {int(growth_values[i])} in the last 6 months\"\n",
    "    res[growth_cities[i]][\"text2\"] = f\"Maybe expand further in this city\"\n",
    "    res[growth_cities[i]][\"y_label\"] = \"Monthly Revenue\"\n",
    "    res[growth_cities[i]][\"chart_type\"] = 1"
   ]
  },
  {
   "cell_type": "code",
   "execution_count": 34,
   "metadata": {},
   "outputs": [
    {
     "data": {
      "text/plain": [
       "{'C021': {'data': array([['2017-01', 4762.040000000001],\n",
       "         ['2017-02', 3488.35],\n",
       "         ['2017-03', 4506.759999999999],\n",
       "         ['2017-04', 4135.82],\n",
       "         ['2017-05', 4030.53],\n",
       "         ['2017-06', 3730.5499999999997],\n",
       "         ['2017-07', 3641.2099999999996],\n",
       "         ['2017-08', 3721.2000000000003],\n",
       "         ['2017-09', 4242.310000000001],\n",
       "         ['2017-10', 4961.370000000001],\n",
       "         ['2017-11', 3943.5],\n",
       "         ['2017-12', 4639.68],\n",
       "         ['2018-01', 4570.64],\n",
       "         ['2018-02', 4424.040000000001],\n",
       "         ['2018-03', 5482.039999999999],\n",
       "         ['2018-04', 5287.589999999999],\n",
       "         ['2018-05', 6047.01],\n",
       "         ['2018-06', 3844.1600000000003],\n",
       "         ['2018-07', 4245.11],\n",
       "         ['2018-08', 4549.389999999999],\n",
       "         ['2018-09', 9492.36],\n",
       "         ['2018-10', 11533.89],\n",
       "         ['2018-11', 9096.5],\n",
       "         ['2018-12', 11984.94]], dtype=object),\n",
       "  'text1': 'City C021 increases the monthly revenue by 211 in the last 6 months',\n",
       "  'text2': 'Maybe expand further in this city',\n",
       "  'y_label': 'Monthly Revenue',\n",
       "  'chart_type': 1},\n",
       " 'C028': {'data': array([['2017-03', 317.98999999999995],\n",
       "         ['2017-04', 3227.7200000000003],\n",
       "         ['2017-05', 2791.57],\n",
       "         ['2017-06', 2898.3799999999997],\n",
       "         ['2017-07', 2984.07],\n",
       "         ['2017-08', 2959.73],\n",
       "         ['2017-09', 3882.98],\n",
       "         ['2017-10', 4303.67],\n",
       "         ['2017-11', 2665.2700000000004],\n",
       "         ['2017-12', 4054.5799999999995],\n",
       "         ['2018-01', 3650.129999999999],\n",
       "         ['2018-02', 3250.340000000001],\n",
       "         ['2018-03', 3874.790000000001],\n",
       "         ['2018-04', 4583.66],\n",
       "         ['2018-05', 6409.049999999998],\n",
       "         ['2018-06', 4099.06],\n",
       "         ['2018-07', 6471.940000000001],\n",
       "         ['2018-08', 10259.980000000001],\n",
       "         ['2018-09', 8718.51],\n",
       "         ['2018-10', 7859.319999999999],\n",
       "         ['2018-11', 6259.25],\n",
       "         ['2018-12', 8730.839999999998]], dtype=object),\n",
       "  'text1': 'City C028 increases the monthly revenue by 112 in the last 6 months',\n",
       "  'text2': 'Maybe expand further in this city',\n",
       "  'y_label': 'Monthly Revenue',\n",
       "  'chart_type': 1},\n",
       " 'C032': {'data': array([['2017-01', 5318.28],\n",
       "         ['2017-02', 3946.7500000000005],\n",
       "         ['2017-03', 3973.390000000001],\n",
       "         ['2017-04', 3509.730000000001],\n",
       "         ['2017-05', 3283.5700000000006],\n",
       "         ['2017-06', 2792.3000000000006],\n",
       "         ['2017-07', 3885.84],\n",
       "         ['2017-08', 3425.51],\n",
       "         ['2017-09', 5259.880000000001],\n",
       "         ['2017-10', 5084.61],\n",
       "         ['2017-11', 4444.280000000001],\n",
       "         ['2017-12', 6168.370000000002],\n",
       "         ['2018-01', 4503.58],\n",
       "         ['2018-02', 4775.56],\n",
       "         ['2018-03', 4992.249999999998],\n",
       "         ['2018-04', 4784.56],\n",
       "         ['2018-05', 7664.830000000002],\n",
       "         ['2018-06', 3792.1800000000007],\n",
       "         ['2018-07', 4602.2],\n",
       "         ['2018-08', 3871.5900000000006],\n",
       "         ['2018-09', 5610.07],\n",
       "         ['2018-10', 7654.030000000001],\n",
       "         ['2018-11', 7167.67],\n",
       "         ['2018-12', 8299.250000000002]], dtype=object),\n",
       "  'text1': 'City C032 increases the monthly revenue by 118 in the last 6 months',\n",
       "  'text2': 'Maybe expand further in this city',\n",
       "  'y_label': 'Monthly Revenue',\n",
       "  'chart_type': 1},\n",
       " 'C037': {'data': array([['2017-01', 992.9200000000001],\n",
       "         ['2017-02', 758.0599999999998],\n",
       "         ['2017-03', 867.9999999999999],\n",
       "         ['2017-04', 853.3000000000001],\n",
       "         ['2017-05', 744.19],\n",
       "         ['2017-06', 567.5],\n",
       "         ['2017-07', 764.0500000000001],\n",
       "         ['2017-08', 778.15],\n",
       "         ['2017-09', 901.8399999999999],\n",
       "         ['2017-10', 1010.1999999999997],\n",
       "         ['2017-11', 798.5799999999999],\n",
       "         ['2017-12', 1232.07],\n",
       "         ['2018-01', 863.5000000000001],\n",
       "         ['2018-02', 691.8799999999998],\n",
       "         ['2018-03', 765.98],\n",
       "         ['2018-04', 853.2],\n",
       "         ['2018-05', 1031.57],\n",
       "         ['2018-06', 730.0800000000002],\n",
       "         ['2018-07', 765.92],\n",
       "         ['2018-08', 865.04],\n",
       "         ['2018-09', 1284.79],\n",
       "         ['2018-10', 1053.8],\n",
       "         ['2018-11', 1460.26],\n",
       "         ['2018-12', 1770.0]], dtype=object),\n",
       "  'text1': 'City C037 increases the monthly revenue by 142 in the last 6 months',\n",
       "  'text2': 'Maybe expand further in this city',\n",
       "  'y_label': 'Monthly Revenue',\n",
       "  'chart_type': 1}}"
      ]
     },
     "execution_count": 34,
     "metadata": {},
     "output_type": "execute_result"
    }
   ],
   "source": [
    "res"
   ]
  },
  {
   "cell_type": "markdown",
   "metadata": {},
   "source": [
    "Lets check the graph for one city"
   ]
  },
  {
   "cell_type": "code",
   "execution_count": 24,
   "metadata": {},
   "outputs": [],
   "source": [
    "city = \"C037\""
   ]
  },
  {
   "cell_type": "code",
   "execution_count": 25,
   "metadata": {},
   "outputs": [
    {
     "name": "stderr",
     "output_type": "stream",
     "text": [
      "/opt/anaconda3/lib/python3.7/site-packages/ipykernel_launcher.py:3: SettingWithCopyWarning: \n",
      "A value is trying to be set on a copy of a slice from a DataFrame.\n",
      "Try using .loc[row_indexer,col_indexer] = value instead\n",
      "\n",
      "See the caveats in the documentation: https://pandas.pydata.org/pandas-docs/stable/user_guide/indexing.html#returning-a-view-versus-a-copy\n",
      "  This is separate from the ipykernel package so we can avoid doing imports until\n"
     ]
    }
   ],
   "source": [
    "temp = monthly_rev_by_city\n",
    "temp = temp.loc[temp.city_id == city]\n",
    "temp['date'] = pd.to_datetime(temp['date'], format='%Y-%m-%d')\n",
    "temp = temp[['date', 'revenue']]\n",
    "temp = temp.loc[temp.date <= pd.to_datetime(yesterday, format='%Y-%m-%d')]"
   ]
  },
  {
   "cell_type": "code",
   "execution_count": 26,
   "metadata": {},
   "outputs": [
    {
     "data": {
      "image/png": "[encoded data removed]",
      "text/plain": [
       "<Figure size 432x288 with 1 Axes>"
      ]
     },
     "metadata": {
      "needs_background": "light"
     },
     "output_type": "display_data"
    }
   ],
   "source": [
    "temp.plot(x='date')\n",
    "plt.show()"
   ]
  },
  {
   "cell_type": "code",
   "execution_count": null,
   "metadata": {},
   "outputs": [],
   "source": []
  }
 ],
 "metadata": {
  "kernelspec": {
   "display_name": "Python 3",
   "language": "python",
   "name": "python3"
  },
  "language_info": {
   "codemirror_mode": {
    "name": "ipython",
    "version": 3
   },
   "file_extension": ".py",
   "mimetype": "text/x-python",
   "name": "python",
   "nbconvert_exporter": "python",
   "pygments_lexer": "ipython3",
   "version": "3.7.6"
  }
 },
 "nbformat": 4,
 "nbformat_minor": 4
}
