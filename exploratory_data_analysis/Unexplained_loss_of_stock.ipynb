{
 "cells": [
  {
   "cell_type": "code",
   "execution_count": 1,
   "metadata": {},
   "outputs": [],
   "source": [
    "import pandas as pd\n",
    "import numpy as np\n",
    "from matplotlib import pyplot as plt"
   ]
  },
  {
   "cell_type": "code",
   "execution_count": 2,
   "metadata": {},
   "outputs": [],
   "source": [
    "yesterday = \"2018-09-17\""
   ]
  },
  {
   "cell_type": "code",
   "execution_count": 3,
   "metadata": {},
   "outputs": [],
   "source": [
    "# Load from csv\n",
    "df_product_hierachy = pd.read_csv('../dataset/product_hierarchy.csv', \n",
    "                                 delimiter= ',',\n",
    "                                 dtype={'product_id':'category',\n",
    "                                        'cluster_id':'category',\n",
    "                                        'hierarchy1_id':'category',\n",
    "                                        'hierarchy2_id':'category',\n",
    "                                        'hierarchy3_id':'category',\n",
    "                                        'hierarchy4_id':'category',\n",
    "                                        'hierarchy5_id':'category'})\n",
    "df_sales = pd.read_csv('../dataset/sales.csv',\n",
    "                       delimiter=',', \n",
    "                       dtype={\"product_id\":\"category\", \n",
    "                              \"store_id\":\"category\",\n",
    "                              \"promo_type_1\":\"category\",\n",
    "                              \"promo_bin_1\":\"category\",\n",
    "                              \"promo_type_2\":\"category\",\n",
    "                              \"promo_bin_2\":\"category\",\n",
    "                              \"promo_discount_2\":\"category\",\n",
    "                              \"promo_discount_type_2\":\"category\"},\n",
    "                       parse_dates=[\"date\"])\n",
    "df_sales = df_sales.join(df_product_hierachy.set_index('product_id'), on='product_id')"
   ]
  },
  {
   "cell_type": "markdown",
   "metadata": {},
   "source": [
    "The Plan with this notebook was to check if there is any unexpected stock loss. Items which are not sold, but not in stock at the end of the day"
   ]
  },
  {
   "cell_type": "code",
   "execution_count": 4,
   "metadata": {},
   "outputs": [],
   "source": [
    "df_sales_clean = df_sales\n",
    "df_sales_clean[\"sales\"] = df_sales_clean[\"sales\"].fillna(0)\n",
    "df_sales_clean[\"stock\"] = df_sales_clean[\"stock\"].fillna(0)\n",
    "df_sales_clean = df_sales_clean.astype({\"sales\": int, \"stock\": int})"
   ]
  },
  {
   "cell_type": "code",
   "execution_count": 5,
   "metadata": {},
   "outputs": [],
   "source": [
    "sales_stock = df_sales_clean.groupby(['store_id', 'date']).agg({'sales':'sum', 'stock':'sum'}).reset_index()"
   ]
  },
  {
   "cell_type": "code",
   "execution_count": 6,
   "metadata": {},
   "outputs": [],
   "source": [
    "sales_stock['prev_stock'] = sales_stock.stock.shift(1)"
   ]
  },
  {
   "cell_type": "code",
   "execution_count": 7,
   "metadata": {},
   "outputs": [],
   "source": [
    "sales_stock['stock_diff_after_sales'] = sales_stock['stock'] - (sales_stock['prev_stock'] - sales_stock['sales'])"
   ]
  },
  {
   "cell_type": "code",
   "execution_count": 8,
   "metadata": {},
   "outputs": [
    {
     "data": {
      "text/html": [
       "<div>\n",
       "<style scoped>\n",
       "    .dataframe tbody tr th:only-of-type {\n",
       "        vertical-align: middle;\n",
       "    }\n",
       "\n",
       "    .dataframe tbody tr th {\n",
       "        vertical-align: top;\n",
       "    }\n",
       "\n",
       "    .dataframe thead th {\n",
       "        text-align: right;\n",
       "    }\n",
       "</style>\n",
       "<table border=\"1\" class=\"dataframe\">\n",
       "  <thead>\n",
       "    <tr style=\"text-align: right;\">\n",
       "      <th></th>\n",
       "      <th>store_id</th>\n",
       "      <th>date</th>\n",
       "      <th>sales</th>\n",
       "      <th>stock</th>\n",
       "      <th>prev_stock</th>\n",
       "      <th>stock_diff_after_sales</th>\n",
       "    </tr>\n",
       "  </thead>\n",
       "  <tbody>\n",
       "    <tr>\n",
       "      <th>0</th>\n",
       "      <td>S0001</td>\n",
       "      <td>2017-01-02</td>\n",
       "      <td>67.0</td>\n",
       "      <td>3280.0</td>\n",
       "      <td>NaN</td>\n",
       "      <td>NaN</td>\n",
       "    </tr>\n",
       "    <tr>\n",
       "      <th>1</th>\n",
       "      <td>S0001</td>\n",
       "      <td>2017-01-03</td>\n",
       "      <td>74.0</td>\n",
       "      <td>3255.0</td>\n",
       "      <td>3280.0</td>\n",
       "      <td>49.0</td>\n",
       "    </tr>\n",
       "    <tr>\n",
       "      <th>2</th>\n",
       "      <td>S0001</td>\n",
       "      <td>2017-01-04</td>\n",
       "      <td>99.0</td>\n",
       "      <td>3169.0</td>\n",
       "      <td>3255.0</td>\n",
       "      <td>13.0</td>\n",
       "    </tr>\n",
       "    <tr>\n",
       "      <th>3</th>\n",
       "      <td>S0001</td>\n",
       "      <td>2017-01-05</td>\n",
       "      <td>94.0</td>\n",
       "      <td>3192.0</td>\n",
       "      <td>3169.0</td>\n",
       "      <td>117.0</td>\n",
       "    </tr>\n",
       "    <tr>\n",
       "      <th>4</th>\n",
       "      <td>S0001</td>\n",
       "      <td>2017-01-06</td>\n",
       "      <td>50.0</td>\n",
       "      <td>3254.0</td>\n",
       "      <td>3192.0</td>\n",
       "      <td>112.0</td>\n",
       "    </tr>\n",
       "    <tr>\n",
       "      <th>...</th>\n",
       "      <td>...</td>\n",
       "      <td>...</td>\n",
       "      <td>...</td>\n",
       "      <td>...</td>\n",
       "      <td>...</td>\n",
       "      <td>...</td>\n",
       "    </tr>\n",
       "    <tr>\n",
       "      <th>157243</th>\n",
       "      <td>S0047</td>\n",
       "      <td>2019-12-25</td>\n",
       "      <td>0.0</td>\n",
       "      <td>0.0</td>\n",
       "      <td>0.0</td>\n",
       "      <td>0.0</td>\n",
       "    </tr>\n",
       "    <tr>\n",
       "      <th>157244</th>\n",
       "      <td>S0047</td>\n",
       "      <td>2019-12-26</td>\n",
       "      <td>0.0</td>\n",
       "      <td>0.0</td>\n",
       "      <td>0.0</td>\n",
       "      <td>0.0</td>\n",
       "    </tr>\n",
       "    <tr>\n",
       "      <th>157245</th>\n",
       "      <td>S0047</td>\n",
       "      <td>2019-12-27</td>\n",
       "      <td>0.0</td>\n",
       "      <td>0.0</td>\n",
       "      <td>0.0</td>\n",
       "      <td>0.0</td>\n",
       "    </tr>\n",
       "    <tr>\n",
       "      <th>157246</th>\n",
       "      <td>S0047</td>\n",
       "      <td>2019-12-28</td>\n",
       "      <td>0.0</td>\n",
       "      <td>0.0</td>\n",
       "      <td>0.0</td>\n",
       "      <td>0.0</td>\n",
       "    </tr>\n",
       "    <tr>\n",
       "      <th>157247</th>\n",
       "      <td>S0047</td>\n",
       "      <td>2019-12-29</td>\n",
       "      <td>0.0</td>\n",
       "      <td>0.0</td>\n",
       "      <td>0.0</td>\n",
       "      <td>0.0</td>\n",
       "    </tr>\n",
       "  </tbody>\n",
       "</table>\n",
       "<p>157248 rows × 6 columns</p>\n",
       "</div>"
      ],
      "text/plain": [
       "       store_id       date  sales   stock  prev_stock  stock_diff_after_sales\n",
       "0         S0001 2017-01-02   67.0  3280.0         NaN                     NaN\n",
       "1         S0001 2017-01-03   74.0  3255.0      3280.0                    49.0\n",
       "2         S0001 2017-01-04   99.0  3169.0      3255.0                    13.0\n",
       "3         S0001 2017-01-05   94.0  3192.0      3169.0                   117.0\n",
       "4         S0001 2017-01-06   50.0  3254.0      3192.0                   112.0\n",
       "...         ...        ...    ...     ...         ...                     ...\n",
       "157243    S0047 2019-12-25    0.0     0.0         0.0                     0.0\n",
       "157244    S0047 2019-12-26    0.0     0.0         0.0                     0.0\n",
       "157245    S0047 2019-12-27    0.0     0.0         0.0                     0.0\n",
       "157246    S0047 2019-12-28    0.0     0.0         0.0                     0.0\n",
       "157247    S0047 2019-12-29    0.0     0.0         0.0                     0.0\n",
       "\n",
       "[157248 rows x 6 columns]"
      ]
     },
     "execution_count": 8,
     "metadata": {},
     "output_type": "execute_result"
    }
   ],
   "source": [
    "sales_stock"
   ]
  },
  {
   "cell_type": "markdown",
   "metadata": {},
   "source": [
    "Since there are shippments comming to each store each day, it is impossible to tell if items where stolen without having the shippment plan"
   ]
  },
  {
   "cell_type": "code",
   "execution_count": null,
   "metadata": {},
   "outputs": [],
   "source": []
  }
 ],
 "metadata": {
  "kernelspec": {
   "display_name": "Python 3",
   "language": "python",
   "name": "python3"
  },
  "language_info": {
   "codemirror_mode": {
    "name": "ipython",
    "version": 3
   },
   "file_extension": ".py",
   "mimetype": "text/x-python",
   "name": "python",
   "nbconvert_exporter": "python",
   "pygments_lexer": "ipython3",
   "version": "3.7.6"
  }
 },
 "nbformat": 4,
 "nbformat_minor": 4
}
