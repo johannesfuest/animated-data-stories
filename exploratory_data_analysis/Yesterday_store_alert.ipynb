{
 "cells": [
  {
   "cell_type": "markdown",
   "metadata": {},
   "source": [
    "## Imports"
   ]
  },
  {
   "cell_type": "code",
   "execution_count": 2,
   "metadata": {},
   "outputs": [],
   "source": [
    "import pandas as pd\n",
    "import numpy as np\n",
    "from matplotlib import pyplot as plt"
   ]
  },
  {
   "cell_type": "markdown",
   "metadata": {},
   "source": [
    "we first update yesterdays date"
   ]
  },
  {
   "cell_type": "code",
   "execution_count": 3,
   "metadata": {},
   "outputs": [],
   "source": [
    "yesterday = \"2018-09-17\""
   ]
  },
  {
   "cell_type": "markdown",
   "metadata": {},
   "source": [
    "## Load the data set\n",
    "First let's load the diffent files of our datase. "
   ]
  },
  {
   "cell_type": "code",
   "execution_count": 4,
   "metadata": {},
   "outputs": [],
   "source": [
    "# Load from csv\n",
    "df_product_hierachy = pd.read_csv('../dataset/turkish_retail_data/product_hierarchy.csv', \n",
    "                                 delimiter= ',',\n",
    "                                 dtype={'product_id':'category',\n",
    "                                        'cluster_id':'category',\n",
    "                                        'hierarchy1_id':'category',\n",
    "                                        'hierarchy2_id':'category',\n",
    "                                        'hierarchy3_id':'category',\n",
    "                                        'hierarchy4_id':'category',\n",
    "                                        'hierarchy5_id':'category'})\n",
    "df_sales = pd.read_csv('../dataset/turkish_retail_data/sales.csv',\n",
    "                       delimiter=',', \n",
    "                       dtype={\"product_id\":\"category\", \n",
    "                              \"store_id\":\"category\",\n",
    "                              \"promo_type_1\":\"category\",\n",
    "                              \"promo_bin_1\":\"category\",\n",
    "                              \"promo_type_2\":\"category\",\n",
    "                              \"promo_bin_2\":\"category\",\n",
    "                              \"promo_discount_2\":\"category\",\n",
    "                              \"promo_discount_type_2\":\"category\"},\n",
    "                       parse_dates=[\"date\"])\n",
    "df_sales = df_sales.join(df_product_hierachy.set_index('product_id'), on='product_id')"
   ]
  },
  {
   "cell_type": "markdown",
   "metadata": {},
   "source": [
    "## We first build a tool for anomaly detection on daily store performance measured against the 14-day running average:"
   ]
  },
  {
   "cell_type": "code",
   "execution_count": 67,
   "metadata": {},
   "outputs": [],
   "source": [
    "daily_revenue_by_store = df_sales.groupby(['store_id','date'])['revenue'].agg('sum').reset_index()"
   ]
  },
  {
   "cell_type": "markdown",
   "metadata": {},
   "source": [
    "Only take into account revenue per store over the last 14 days"
   ]
  },
  {
   "cell_type": "code",
   "execution_count": 78,
   "metadata": {},
   "outputs": [],
   "source": [
    "daily_revenue_by_store_last_two_weeks = daily_revenue_by_store[daily_revenue_by_store.date.isin(pd.date_range(pd.Timedelta(-13, unit='d')+pd.to_datetime(yesterday, format='%Y-%m-%d', errors='ignore').date(), periods=14))]"
   ]
  },
  {
   "cell_type": "markdown",
   "metadata": {},
   "source": [
    "We filter out stores that are not regularaly reporting numbers:"
   ]
  },
  {
   "cell_type": "code",
   "execution_count": 79,
   "metadata": {},
   "outputs": [
    {
     "name": "stderr",
     "output_type": "stream",
     "text": [
      "/opt/anaconda3/lib/python3.7/site-packages/pandas/core/indexing.py:965: SettingWithCopyWarning: \n",
      "A value is trying to be set on a copy of a slice from a DataFrame.\n",
      "Try using .loc[row_indexer,col_indexer] = value instead\n",
      "\n",
      "See the caveats in the documentation: https://pandas.pydata.org/pandas-docs/stable/user_guide/indexing.html#returning-a-view-versus-a-copy\n",
      "  self.obj[item] = s\n"
     ]
    }
   ],
   "source": [
    "daily_revenue_by_store_last_two_weeks.loc[daily_revenue_by_store_last_two_weeks['revenue'].isnull(),'revenue']=0"
   ]
  },
  {
   "cell_type": "code",
   "execution_count": 77,
   "metadata": {},
   "outputs": [
    {
     "name": "stderr",
     "output_type": "stream",
     "text": [
      "/opt/anaconda3/lib/python3.7/site-packages/ipykernel_launcher.py:1: SettingWithCopyWarning: \n",
      "A value is trying to be set on a copy of a slice from a DataFrame.\n",
      "Try using .loc[row_indexer,col_indexer] = value instead\n",
      "\n",
      "See the caveats in the documentation: https://pandas.pydata.org/pandas-docs/stable/user_guide/indexing.html#returning-a-view-versus-a-copy\n",
      "  \"\"\"Entry point for launching an IPython kernel.\n"
     ]
    }
   ],
   "source": [
    "daily_revenue_by_store_last_two_weeks['revenue'] = daily_revenue_by_store_last_two_weeks['revenue'].replace(np.nan, 0)"
   ]
  },
  {
   "cell_type": "code",
   "execution_count": 54,
   "metadata": {},
   "outputs": [
    {
     "name": "stderr",
     "output_type": "stream",
     "text": [
      "/opt/anaconda3/lib/python3.7/site-packages/ipykernel_launcher.py:1: SettingWithCopyWarning: \n",
      "A value is trying to be set on a copy of a slice from a DataFrame.\n",
      "Try using .loc[row_indexer,col_indexer] = value instead\n",
      "\n",
      "See the caveats in the documentation: https://pandas.pydata.org/pandas-docs/stable/user_guide/indexing.html#returning-a-view-versus-a-copy\n",
      "  \"\"\"Entry point for launching an IPython kernel.\n"
     ]
    }
   ],
   "source": [
    "daily_revenue_by_store_last_two_weeks['revenue'] = daily_revenue_by_store_last_two_weeks['revenue'].fillna(0)\n",
    "filter_good_stores = daily_revenue_by_store_last_two_weeks.groupby(['store_id']).agg(['max', 'min']).reset_index()\n",
    "filter_good_stores.columns = list(map(''.join, filter_good_stores.columns.values))\n",
    "filter_good_stores = filter_good_stores.loc[filter_good_stores.revenuemax != filter_good_stores.revenuemin]\n",
    "good_stores = filter_good_stores['store_id'].tolist()\n",
    "daily_revenue_by_store_last_two_weeks = daily_revenue_by_store_last_two_weeks[daily_revenue_by_store_last_two_weeks.store_id.isin(good_stores)]"
   ]
  },
  {
   "cell_type": "markdown",
   "metadata": {},
   "source": [
    "We now create a dataframe that shows average sales over the past two weeks per store and yesterday's revenue per store."
   ]
  },
  {
   "cell_type": "code",
   "execution_count": 55,
   "metadata": {},
   "outputs": [],
   "source": [
    "two_week_store_mean = daily_revenue_by_store_last_two_weeks.groupby(['store_id']).agg('mean').reset_index()\n",
    "two_week_store_mean = two_week_store_mean.dropna()\n",
    "two_week_store_mean = two_week_store_mean.rename(columns={\"revenue\": \"mean_revenue\"})\n",
    "\n",
    "yesterday_store_revenue = daily_revenue_by_store_last_two_weeks.loc[daily_revenue_by_store_last_two_weeks.date == yesterday]\n",
    "yesterday_store_revenue = yesterday_store_revenue.drop(columns=['date'])\n",
    "yesterday_store_revenue = yesterday_store_revenue.rename(columns={\"revenue\": \"yesterday_revenue\"})\n",
    "\n",
    "store_mean_yesterday = two_week_store_mean.set_index('store_id').join(yesterday_store_revenue.set_index('store_id'))"
   ]
  },
  {
   "cell_type": "markdown",
   "metadata": {},
   "source": [
    "We now isolate stores whose revenue yesterday was less than 5% of the moving 14-day average:"
   ]
  },
  {
   "cell_type": "code",
   "execution_count": 56,
   "metadata": {},
   "outputs": [],
   "source": [
    "underperforming_stores_df = store_mean_yesterday.loc[store_mean_yesterday.yesterday_revenue < 0.05 * store_mean_yesterday.mean_revenue].reset_index()\n",
    "underperforming_stores = underperforming_stores_df['store_id'].tolist()"
   ]
  },
  {
   "cell_type": "code",
   "execution_count": 57,
   "metadata": {},
   "outputs": [
    {
     "data": {
      "text/plain": [
       "['S0017', 'S0136']"
      ]
     },
     "execution_count": 57,
     "metadata": {},
     "output_type": "execute_result"
    }
   ],
   "source": [
    "underperforming_stores"
   ]
  },
  {
   "cell_type": "code",
   "execution_count": 66,
   "metadata": {},
   "outputs": [
    {
     "data": {
      "text/plain": [
       "{'S0017': {'chart_type': 0,\n",
       "  'data': array([[Timestamp('2018-09-04 00:00:00'), 134.74],\n",
       "         [Timestamp('2018-09-05 00:00:00'), 207.39000000000004],\n",
       "         [Timestamp('2018-09-06 00:00:00'), 275.56000000000006],\n",
       "         [Timestamp('2018-09-07 00:00:00'), 106.89000000000001],\n",
       "         [Timestamp('2018-09-08 00:00:00'), 176.14],\n",
       "         [Timestamp('2018-09-09 00:00:00'), 162.75],\n",
       "         [Timestamp('2018-09-10 00:00:00'), 46.32],\n",
       "         [Timestamp('2018-09-11 00:00:00'), 452.76],\n",
       "         [Timestamp('2018-09-12 00:00:00'), 287.28999999999996],\n",
       "         [Timestamp('2018-09-13 00:00:00'), 87.05],\n",
       "         [Timestamp('2018-09-14 00:00:00'), 174.73],\n",
       "         [Timestamp('2018-09-15 00:00:00'), 65.6],\n",
       "         [Timestamp('2018-09-16 00:00:00'), 119.83],\n",
       "         [Timestamp('2018-09-17 00:00:00'), 0.0]], dtype=object),\n",
       "  'text1': \"Yesterday's daily revenue for store S0017 fellow below 5 percent of the 14 day average.\",\n",
       "  'text2': 'Check in with store manager to determine cause.'},\n",
       " 'S0136': {'chart_type': 0,\n",
       "  'data': array([[Timestamp('2018-09-04 00:00:00'), 31.89],\n",
       "         [Timestamp('2018-09-05 00:00:00'), 51.419999999999995],\n",
       "         [Timestamp('2018-09-06 00:00:00'), 30.360000000000003],\n",
       "         [Timestamp('2018-09-07 00:00:00'), 32.71],\n",
       "         [Timestamp('2018-09-08 00:00:00'), 127.32000000000001],\n",
       "         [Timestamp('2018-09-09 00:00:00'), 243.8],\n",
       "         [Timestamp('2018-09-10 00:00:00'), 69.5],\n",
       "         [Timestamp('2018-09-11 00:00:00'), 31.13],\n",
       "         [Timestamp('2018-09-12 00:00:00'), 15.88],\n",
       "         [Timestamp('2018-09-13 00:00:00'), 17.500000000000004],\n",
       "         [Timestamp('2018-09-14 00:00:00'), 5.79],\n",
       "         [Timestamp('2018-09-15 00:00:00'), 16.45],\n",
       "         [Timestamp('2018-09-16 00:00:00'), 23.050000000000004],\n",
       "         [Timestamp('2018-09-17 00:00:00'), 0.0]], dtype=object),\n",
       "  'text1': \"Yesterday's daily revenue for store S0136 fellow below 5 percent of the 14 day average.\",\n",
       "  'text2': 'Check in with store manager to determine cause.'}}"
      ]
     },
     "execution_count": 66,
     "metadata": {},
     "output_type": "execute_result"
    }
   ],
   "source": [
    "result = {}\n",
    "for store in underperforming_stores:\n",
    "    temp = daily_revenue_by_store_last_two_weeks[daily_revenue_by_store_last_two_weeks.store_id.isin([store])]\n",
    "    result[store] = {}\n",
    "    result[store][\"chart_type\"] = 0\n",
    "    result[store][\"data\"] = temp[['date', 'revenue']].to_numpy()\n",
    "    result[store][\"text1\"] = f\"Yesterday's daily revenue for store {store} fellow below 5 percent of the 14 day average.\"\n",
    "    result[store][\"text2\"] = \"Check in with store manager to determine cause.\"\n",
    "result"
   ]
  },
  {
   "cell_type": "code",
   "execution_count": null,
   "metadata": {},
   "outputs": [],
   "source": []
  }
 ],
 "metadata": {
  "kernelspec": {
   "display_name": "Python 3",
   "language": "python",
   "name": "python3"
  },
  "language_info": {
   "codemirror_mode": {
    "name": "ipython",
    "version": 3
   },
   "file_extension": ".py",
   "mimetype": "text/x-python",
   "name": "python",
   "nbconvert_exporter": "python",
   "pygments_lexer": "ipython3",
   "version": "3.7.6"
  }
 },
 "nbformat": 4,
 "nbformat_minor": 4
}
